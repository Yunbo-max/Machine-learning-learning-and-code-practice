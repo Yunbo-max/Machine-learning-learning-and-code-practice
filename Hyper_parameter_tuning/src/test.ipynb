{
 "cells": [
  {
   "cell_type": "code",
   "execution_count": 15,
   "metadata": {},
   "outputs": [
    {
     "ename": "NameError",
     "evalue": "name 'int32' is not defined",
     "output_type": "error",
     "traceback": [
      "\u001b[0;31m---------------------------------------------------------------------------\u001b[0m",
      "\u001b[0;31mNameError\u001b[0m                                 Traceback (most recent call last)",
      "Cell \u001b[0;32mIn[15], line 60\u001b[0m\n\u001b[1;32m     51\u001b[0m param_names \u001b[38;5;241m=\u001b[39m [\n\u001b[1;32m     52\u001b[0m     \u001b[38;5;124m\"\u001b[39m\u001b[38;5;124mmax_depth\u001b[39m\u001b[38;5;124m\"\u001b[39m,\n\u001b[1;32m     53\u001b[0m     \u001b[38;5;124m\"\u001b[39m\u001b[38;5;124mn_estimators\u001b[39m\u001b[38;5;124m\"\u001b[39m,\n\u001b[1;32m     54\u001b[0m     \u001b[38;5;124m\"\u001b[39m\u001b[38;5;124mcriterion\u001b[39m\u001b[38;5;124m\"\u001b[39m,\n\u001b[1;32m     55\u001b[0m     \u001b[38;5;124m\"\u001b[39m\u001b[38;5;124mmax_features\u001b[39m\u001b[38;5;124m\"\u001b[39m\n\u001b[1;32m     56\u001b[0m ]\n\u001b[1;32m     58\u001b[0m optimization_function \u001b[38;5;241m=\u001b[39m partial(optimize,param_names\u001b[38;5;241m=\u001b[39mparam_names, x\u001b[38;5;241m=\u001b[39mX, y\u001b[38;5;241m=\u001b[39my)\n\u001b[0;32m---> 60\u001b[0m result \u001b[38;5;241m=\u001b[39m \u001b[43mgp_minimize\u001b[49m\u001b[43m(\u001b[49m\n\u001b[1;32m     61\u001b[0m \u001b[43m    \u001b[49m\u001b[43moptimization_function\u001b[49m\u001b[43m,\u001b[49m\n\u001b[1;32m     62\u001b[0m \u001b[43m    \u001b[49m\u001b[43mdimensions\u001b[49m\u001b[43m \u001b[49m\u001b[38;5;241;43m=\u001b[39;49m\u001b[43m \u001b[49m\u001b[43mparam_space\u001b[49m\u001b[43m,\u001b[49m\n\u001b[1;32m     63\u001b[0m \u001b[43m    \u001b[49m\u001b[43mn_calls\u001b[49m\u001b[38;5;241;43m=\u001b[39;49m\u001b[38;5;241;43m15\u001b[39;49m\u001b[43m,\u001b[49m\n\u001b[1;32m     64\u001b[0m \u001b[43m    \u001b[49m\u001b[43mn_random_starts\u001b[49m\u001b[38;5;241;43m=\u001b[39;49m\u001b[38;5;241;43m10\u001b[39;49m\u001b[43m,\u001b[49m\n\u001b[1;32m     65\u001b[0m \u001b[43m    \u001b[49m\u001b[43mverbose\u001b[49m\u001b[38;5;241;43m=\u001b[39;49m\u001b[38;5;241;43m10\u001b[39;49m\n\u001b[1;32m     66\u001b[0m \u001b[43m\u001b[49m\u001b[43m)\u001b[49m\n\u001b[1;32m     68\u001b[0m \u001b[38;5;28mprint\u001b[39m(\u001b[38;5;28mdict\u001b[39m(\u001b[38;5;28mzip\u001b[39m(param_names, result\u001b[38;5;241m.\u001b[39mx)))\n",
      "File \u001b[0;32m~/anaconda3/envs/basic/lib/python3.9/site-packages/skopt/optimizer/gp.py:256\u001b[0m, in \u001b[0;36mgp_minimize\u001b[0;34m(func, dimensions, base_estimator, n_calls, n_random_starts, n_initial_points, initial_point_generator, acq_func, acq_optimizer, x0, y0, random_state, verbose, callback, n_points, n_restarts_optimizer, xi, kappa, noise, n_jobs, model_queue_size)\u001b[0m\n\u001b[1;32m    252\u001b[0m space \u001b[38;5;241m=\u001b[39m normalize_dimensions(dimensions)\n\u001b[1;32m    254\u001b[0m \u001b[38;5;28;01mif\u001b[39;00m base_estimator \u001b[38;5;129;01mis\u001b[39;00m \u001b[38;5;28;01mNone\u001b[39;00m:\n\u001b[1;32m    255\u001b[0m     base_estimator \u001b[38;5;241m=\u001b[39m cook_estimator(\n\u001b[0;32m--> 256\u001b[0m         \u001b[38;5;124m\"\u001b[39m\u001b[38;5;124mGP\u001b[39m\u001b[38;5;124m\"\u001b[39m, space\u001b[38;5;241m=\u001b[39mspace, random_state\u001b[38;5;241m=\u001b[39mrng\u001b[38;5;241m.\u001b[39mrandint(\u001b[38;5;241m0\u001b[39m, np\u001b[38;5;241m.\u001b[39miinfo(\u001b[43mint32\u001b[49m)\u001b[38;5;241m.\u001b[39mmax),\n\u001b[1;32m    257\u001b[0m         noise\u001b[38;5;241m=\u001b[39mnoise)\n\u001b[1;32m    259\u001b[0m \u001b[38;5;28;01mreturn\u001b[39;00m base_minimize(\n\u001b[1;32m    260\u001b[0m     func, space, base_estimator\u001b[38;5;241m=\u001b[39mbase_estimator,\n\u001b[1;32m    261\u001b[0m     acq_func\u001b[38;5;241m=\u001b[39macq_func,\n\u001b[0;32m   (...)\u001b[0m\n\u001b[1;32m    267\u001b[0m     x0\u001b[38;5;241m=\u001b[39mx0, y0\u001b[38;5;241m=\u001b[39my0, random_state\u001b[38;5;241m=\u001b[39mrng, verbose\u001b[38;5;241m=\u001b[39mverbose,\n\u001b[1;32m    268\u001b[0m     callback\u001b[38;5;241m=\u001b[39mcallback, n_jobs\u001b[38;5;241m=\u001b[39mn_jobs, model_queue_size\u001b[38;5;241m=\u001b[39mmodel_queue_size)\n",
      "\u001b[0;31mNameError\u001b[0m: name 'int32' is not defined"
     ]
    }
   ],
   "source": [
    "import pandas as pd \n",
    "import numpy as np\n",
    "from sklearn import ensemble\n",
    "from sklearn import metrics\n",
    "from sklearn import model_selection\n",
    "from sklearn import decomposition\n",
    "from sklearn import preprocessing\n",
    "from sklearn import pipeline\n",
    "\n",
    "from functools import partial\n",
    "from skopt import space\n",
    "from skopt import gp_minimize\n",
    "\n",
    "\n",
    "\n",
    "def optimize(params,param_names,x,y):\n",
    "    params = dict(zip(param_names,params))\n",
    "    model = ensemble.RandomForestClassifier(**params)\n",
    "    kf = model_selection.StratifiedKFold(n_splits=5)\n",
    "    accuracies = []\n",
    "    for idx in kf.split(X=x,y=y):\n",
    "        train_idx,test_idx = idx[0], idx[1]\n",
    "        xtrain = x[train_idx]\n",
    "        ytrain = y[train_idx]\n",
    "\n",
    "        xtest = x[test_idx]\n",
    "        ytest = y[test_idx]\n",
    "\n",
    "        model.fit(xtrain,ytrain)\n",
    "        preds = model.predict(xtest)\n",
    "        fold_acc = metrics.accuracy_score(ytest,preds)\n",
    "        accuracies.append(fold_acc)\n",
    "\n",
    "    return -1.0*np.mean(accuracies)\n",
    "\n",
    "\n",
    "\n",
    "\n",
    "if __name__ == \"__main__\":\n",
    "    df = pd.read_csv(\"/Users/yunbo/Documents/GitHub/Machine-learning-learning-and-code-practice/Hyper_parameter_tuning/input/train.csv\")\n",
    "    X = df.drop(\"price_range\",axis=1).values\n",
    "    y = df.price_range.values\n",
    "    \n",
    "    param_space = [\n",
    "        space.Integer(3,15,name=\"max_depth\"),\n",
    "        space.Integer(100,600,name=\"n_estimators\"),\n",
    "        space.Categorical([\"gini\",\"entropy\"],name=\"criterion\"),\n",
    "        space.Real(0.01,1,prior=\"uniform\",name=\"max_features\"),\n",
    "    ]\n",
    "\n",
    "    param_names = [\n",
    "        \"max_depth\",\n",
    "        \"n_estimators\",\n",
    "        \"criterion\",\n",
    "        \"max_features\"\n",
    "    ]\n",
    "\n",
    "    optimization_function = partial(optimize,param_names=param_names, x=X, y=y)\n",
    "\n",
    "    result = gp_minimize(\n",
    "        optimization_function,\n",
    "        dimensions = param_space,\n",
    "        n_calls=15,\n",
    "        n_random_starts=10,\n",
    "        verbose=10\n",
    "    )\n",
    "\n",
    "    print(dict(zip(param_names, result.x)))         \n",
    "    \n",
    "               "
   ]
  }
 ],
 "metadata": {
  "kernelspec": {
   "display_name": "basic",
   "language": "python",
   "name": "python3"
  },
  "language_info": {
   "codemirror_mode": {
    "name": "ipython",
    "version": 3
   },
   "file_extension": ".py",
   "mimetype": "text/x-python",
   "name": "python",
   "nbconvert_exporter": "python",
   "pygments_lexer": "ipython3",
   "version": "3.9.18"
  }
 },
 "nbformat": 4,
 "nbformat_minor": 2
}
