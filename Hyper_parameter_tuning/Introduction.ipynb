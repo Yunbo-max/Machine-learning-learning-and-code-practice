{
 "cells": [
  {
   "cell_type": "markdown",
   "metadata": {},
   "source": [
    "# Genearl Mcahine Learning methods"
   ]
  },
  {
   "cell_type": "markdown",
   "metadata": {},
   "source": [
    "# 1. How to Manage, Track, and Visualize Hyperparameters of Machine Learning Models?\n",
    "https://neptune.ai/blog/how-to-manage-track-visualize-hyperparameters"
   ]
  },
  {
   "cell_type": "markdown",
   "metadata": {},
   "source": [
    "# 2. How to do hyperparameter-fine-tuning\n",
    "# Manual \n",
    "https://machinelearningmastery.com/manually-optimize-hyperparameters/\n",
    "\n",
    "# optuna\n",
    "https://medium.com/optuna/using-optuna-to-optimize-xgboost-hyperparameters-63bfcdfd3407"
   ]
  },
  {
   "cell_type": "markdown",
   "metadata": {},
   "source": [
    "# 3. How to Save vs package vs store ML models\n",
    "https://neptune.ai/blog/saving-trained-model-in-python"
   ]
  },
  {
   "cell_type": "markdown",
   "metadata": {},
   "source": [
    "# 4. How to Save Trained Model in Python\n",
    "https://neptune.ai/blog/saving-trained-model-in-python"
   ]
  },
  {
   "cell_type": "markdown",
   "metadata": {},
   "source": [
    "# 5. How to Visualize Deep Learning Models\n",
    "https://neptune.ai/blog/deep-learning-visualization"
   ]
  },
  {
   "cell_type": "markdown",
   "metadata": {},
   "source": [
    "# 6.Performance Metrics\n",
    "https://neptune.ai/blog/performance-metrics-in-machine-learning-complete-guide"
   ]
  },
  {
   "cell_type": "markdown",
   "metadata": {},
   "source": [
    "# 7.Improve the performance\n",
    "https://neptune.ai/blog/improving-ml-model-performance"
   ]
  },
  {
   "cell_type": "markdown",
   "metadata": {},
   "source": [
    "# ML Version Control"
   ]
  },
  {
   "cell_type": "markdown",
   "metadata": {},
   "source": [
    "# 1. How to Version Control Data in ML for Various Data Sources\n",
    "https://neptune.ai/blog/data-versioning-control-for-various-data-sources"
   ]
  },
  {
   "cell_type": "markdown",
   "metadata": {},
   "source": [
    "# 2.How to Version Control ML Model rather than using Git\n",
    "https://neptune.ai/blog/git-for-ml-model-version-control"
   ]
  },
  {
   "cell_type": "markdown",
   "metadata": {},
   "source": [
    "# MLops"
   ]
  },
  {
   "cell_type": "markdown",
   "metadata": {},
   "source": [
    "# 1.Best Tools, Libraries, Frameworks and Methodologies that Machine Learning Teams Actually Use\n",
    "https://neptune.ai/blog/tools-libraries-frameworks-methodologies-ml-startups-roundup\n"
   ]
  },
  {
   "cell_type": "markdown",
   "metadata": {},
   "source": [
    "# 2.Software Engineering Patterns for Machine Learning\n",
    "https://neptune.ai/blog/software-patterns-for-ml"
   ]
  },
  {
   "cell_type": "markdown",
   "metadata": {},
   "source": [
    "# 3.Best Machine Learning Model Management Tools\n",
    "https://neptune.ai/blog/best-machine-learning-model-management-tools"
   ]
  },
  {
   "cell_type": "markdown",
   "metadata": {},
   "source": [
    "# 4.Tools That Will Help You Setup Production ML Model Testing\n",
    "https://neptune.ai/blog/tools-ml-model-testing"
   ]
  },
  {
   "cell_type": "markdown",
   "metadata": {},
   "source": [
    "# 5.How to Learn MLOps in 2024 [Courses, Books, and Other Resources\n",
    "https://neptune.ai/blog/how-to-learn-mlops"
   ]
  },
  {
   "cell_type": "markdown",
   "metadata": {},
   "source": [
    "# Docker\n",
    "https://neptune.ai/blog/best-practices-docker-for-machine-learning"
   ]
  }
 ],
 "metadata": {
  "language_info": {
   "name": "python"
  }
 },
 "nbformat": 4,
 "nbformat_minor": 2
}
